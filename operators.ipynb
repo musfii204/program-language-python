{
  "nbformat": 4,
  "nbformat_minor": 0,
  "metadata": {
    "colab": {
      "provenance": []
    },
    "kernelspec": {
      "name": "python3",
      "display_name": "Python 3"
    },
    "language_info": {
      "name": "python"
    }
  },
  "cells": [
    {
      "cell_type": "code",
      "execution_count": 2,
      "metadata": {
        "colab": {
          "base_uri": "https://localhost:8080/"
        },
        "id": "DpTLTy9HzxgM",
        "outputId": "8190dcb5-89d4-4abb-e5dd-4ef489b1a339"
      },
      "outputs": [
        {
          "output_type": "stream",
          "name": "stdout",
          "text": [
            "hellow world\n"
          ]
        }
      ],
      "source": [
        "print(\"hellow world\")"
      ]
    },
    {
      "cell_type": "code",
      "source": [],
      "metadata": {
        "id": "ePUHe8SA-wxM"
      },
      "execution_count": null,
      "outputs": []
    },
    {
      "cell_type": "markdown",
      "source": [
        "***arithmetic operators***"
      ],
      "metadata": {
        "id": "5T0irtMZ-zjb"
      }
    },
    {
      "cell_type": "code",
      "source": [
        "num1:int=2\n",
        "num2:int=5\n",
        "print(5+2)\n",
        "print(2*5)\n",
        "print(2**5)\n",
        "print(2%5)\n",
        "print(2-5)\n",
        "print(2//5)\n",
        "print(2/5)"
      ],
      "metadata": {
        "colab": {
          "base_uri": "https://localhost:8080/"
        },
        "id": "XTdgiPhY_L5q",
        "outputId": "006bc8c0-43f4-4b35-e34f-0d5958ab3f68"
      },
      "execution_count": 15,
      "outputs": [
        {
          "output_type": "stream",
          "name": "stdout",
          "text": [
            "7\n",
            "10\n",
            "32\n",
            "2\n",
            "-3\n",
            "0\n",
            "0.4\n"
          ]
        }
      ]
    },
    {
      "cell_type": "markdown",
      "source": [
        "***Assigment operators***"
      ],
      "metadata": {
        "id": "TUEHbb2oA-F3"
      }
    },
    {
      "cell_type": "code",
      "source": [
        "x:int = 5\n",
        "x= x + 5\n",
        "print(x)\n",
        "x= x-5\n",
        "print(x)\n",
        "x= x*5\n",
        "print(x)\n",
        "x=x**5\n",
        "print(x)\n",
        "x=x%5\n",
        "print(x)\n",
        "x=x/5\n",
        "print(x)\n"
      ],
      "metadata": {
        "colab": {
          "base_uri": "https://localhost:8080/"
        },
        "id": "xIhj_YuzBJ6p",
        "outputId": "3b4ac8df-8ab1-418f-9983-b915dcd5cc91"
      },
      "execution_count": 26,
      "outputs": [
        {
          "output_type": "stream",
          "name": "stdout",
          "text": [
            "10\n",
            "5\n",
            "25\n",
            "9765625\n",
            "0\n",
            "0.0\n",
            "0.0\n"
          ]
        }
      ]
    },
    {
      "cell_type": "markdown",
      "source": [
        "***comparsion operators***"
      ],
      "metadata": {
        "id": "zewak59XDdTh"
      }
    },
    {
      "cell_type": "code",
      "source": [
        "num1:int=20\n",
        "num2:int=10\n",
        "print(num1==num2)\n",
        "print(num2<num1)\n",
        "print(num1>num2)\n",
        "print(num1<=num2)\n",
        "print(num2<=num1)\n",
        "print(num1!=num2)"
      ],
      "metadata": {
        "colab": {
          "base_uri": "https://localhost:8080/"
        },
        "id": "yRvDMB5zDoA8",
        "outputId": "54ccf351-36d8-4aa0-96bc-cce103b37a1f"
      },
      "execution_count": 34,
      "outputs": [
        {
          "output_type": "stream",
          "name": "stdout",
          "text": [
            "False\n",
            "True\n",
            "True\n",
            "False\n",
            "True\n",
            "True\n"
          ]
        }
      ]
    },
    {
      "cell_type": "code",
      "source": [],
      "metadata": {
        "id": "CpDk09FNGYIW"
      },
      "execution_count": null,
      "outputs": []
    },
    {
      "cell_type": "markdown",
      "source": [
        "***logical operators***"
      ],
      "metadata": {
        "id": "8aTFMDoGG7Jr"
      }
    },
    {
      "cell_type": "code",
      "source": [
        "#or and"
      ],
      "metadata": {
        "id": "EMSdZx5nHBIT"
      },
      "execution_count": null,
      "outputs": []
    },
    {
      "cell_type": "code",
      "source": [
        "num1:int= 40\n",
        "print(num1>10and num1 <40)\n",
        "print(num1>10 or num2<40)"
      ],
      "metadata": {
        "colab": {
          "base_uri": "https://localhost:8080/"
        },
        "id": "vny1fMweHS6d",
        "outputId": "a12b051c-8863-49be-ecef-24657ae2ff5b"
      },
      "execution_count": 38,
      "outputs": [
        {
          "output_type": "stream",
          "name": "stdout",
          "text": [
            "False\n",
            "True\n"
          ]
        }
      ]
    },
    {
      "cell_type": "code",
      "source": [],
      "metadata": {
        "id": "KuUe9vgsJUHO"
      },
      "execution_count": null,
      "outputs": []
    }
  ]
}