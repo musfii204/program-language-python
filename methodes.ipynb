{
  "nbformat": 4,
  "nbformat_minor": 0,
  "metadata": {
    "colab": {
      "provenance": []
    },
    "kernelspec": {
      "name": "python3",
      "display_name": "Python 3"
    },
    "language_info": {
      "name": "python"
    }
  },
  "cells": [
    {
      "cell_type": "markdown",
      "source": [
        "**STRINGS METHODS**\n",
        "\n",
        "---\n",
        "\n",
        "\n",
        "1.  **capatalize():**use to capatlize the first word\n",
        "2.   **replace():** used to replace a specific substring\n",
        "3. **upper()**:used to convert all the strings in  uppercase letter\n",
        "4. **index()**:used to find the index of the string\n",
        "5. **find()**:used to find the postion of the specific value\n",
        "6. **count()**:used to count how many time a value appears in list or string\n",
        "\n",
        "\n",
        "\n",
        "\n"
      ],
      "metadata": {
        "id": "OGRQwyvrLi_8"
      }
    },
    {
      "cell_type": "code",
      "source": [
        "name= \"pakistan is my country\"\n",
        "print(name.capitalize())\n",
        "print(name.replace(\"pakistan\",\"american\"))\n",
        "print(name.upper())\n",
        "print(name.index(\"my\"))\n",
        "print(name.find(\"country\"))\n",
        "print(name.count(\"is\"))\n",
        "\n",
        ""
      ],
      "metadata": {
        "colab": {
          "base_uri": "https://localhost:8080/"
        },
        "id": "GqI41OVSLoEH",
        "outputId": "e90a40f4-b015-4528-bd50-63ea2225f3ea"
      },
      "execution_count": 1,
      "outputs": [
        {
          "output_type": "stream",
          "name": "stdout",
          "text": [
            "Pakistan is my country\n",
            "american is my country\n",
            "PAKISTAN IS MY COUNTRY\n",
            "12\n",
            "15\n",
            "2\n"
          ]
        }
      ]
    },
    {
      "cell_type": "code",
      "execution_count": null,
      "metadata": {
        "id": "0nK5nBtFKhXV"
      },
      "outputs": [],
      "source": []
    },
    {
      "cell_type": "markdown",
      "source": [
        "**LIST METHOD**\n",
        "\n",
        "---\n",
        "1. **Append(**):used to add the element to the end of a list  \n",
        "2. **insert**():used to add an element at a specific index in list\n",
        "3. **reverse()**: used to reverse the order list\n",
        "4. **pop**(): remove the last element\n",
        "5. **sort**(): it used to sort the list in ascending or decending order\n",
        "6. **extend**(): it used to add the new list at the end of current list\n",
        "\n",
        "\n",
        "\n"
      ],
      "metadata": {
        "id": "FAJggZVsOhV6"
      }
    },
    {
      "cell_type": "code",
      "source": [
        "my_list=[\"musfa\",\"urooj\",\"mahenn\",\"laraib\",\"aliza\"]\n",
        "print(my_list)\n",
        "my_list.append(\"taha ali\")\n",
        "\n",
        "print(my_list)\n",
        "my_list.insert(3,\" sarmand\")\n",
        "\n",
        "my_list.reverse()\n",
        "print(my_list)\n",
        "\n",
        "my_list.pop()\n",
        "print(my_list)\n",
        "\n",
        "my_list.sort()\n",
        "print(my_list)\n",
        "\n",
        "new_list=[\"kiran\", \"abdullah\"]\n",
        "my_list.extend(new_list)\n",
        "print(\"old list\",my_list)\n",
        "print(\"new list\",new_list)\n",
        ""
      ],
      "metadata": {
        "colab": {
          "base_uri": "https://localhost:8080/"
        },
        "id": "ce9UPcTQOo0X",
        "outputId": "af26a939-7242-4737-b975-678baa68aeb5"
      },
      "execution_count": 2,
      "outputs": [
        {
          "output_type": "stream",
          "name": "stdout",
          "text": [
            "['musfa', 'urooj', 'mahenn', 'laraib', 'aliza']\n",
            "['musfa', 'urooj', 'mahenn', 'laraib', 'aliza', 'taha ali']\n",
            "['taha ali', 'aliza', 'laraib', ' sarmand', 'mahenn', 'urooj', 'musfa']\n",
            "['taha ali', 'aliza', 'laraib', ' sarmand', 'mahenn', 'urooj']\n",
            "[' sarmand', 'aliza', 'laraib', 'mahenn', 'taha ali', 'urooj']\n",
            "old list [' sarmand', 'aliza', 'laraib', 'mahenn', 'taha ali', 'urooj', 'kiran', 'abdullah']\n",
            "new list ['kiran', 'abdullah']\n"
          ]
        }
      ]
    },
    {
      "cell_type": "markdown",
      "source": [
        "**TUPLE METHODS**\n",
        "\n",
        "---\n",
        "1. **count():**tell you how many times a specifie values appears in the tuple\n",
        "2. **index()**: find the position of the sepcific tupls\n",
        "\n"
      ],
      "metadata": {
        "id": "2SFroL68Tq2S"
      }
    },
    {
      "cell_type": "code",
      "source": [
        "tuple=( 1,2,5,7,5,5,4,3,2,)\n",
        "print(tuple.count(5))\n",
        "print(tuple.index(2))"
      ],
      "metadata": {
        "colab": {
          "base_uri": "https://localhost:8080/"
        },
        "id": "dgcurbdfTxz0",
        "outputId": "3f7e806b-fd68-40d5-9330-7664decb762f"
      },
      "execution_count": 4,
      "outputs": [
        {
          "output_type": "stream",
          "name": "stdout",
          "text": [
            "3\n",
            "1\n"
          ]
        }
      ]
    },
    {
      "cell_type": "markdown",
      "source": [],
      "metadata": {
        "id": "ftmBd7CEYwqF"
      }
    }
  ]
}